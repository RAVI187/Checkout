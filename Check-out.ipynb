{
 "cells": [
  {
   "cell_type": "code",
   "execution_count": 1,
   "metadata": {},
   "outputs": [],
   "source": [
    "import selenium\n",
    "from selenium import webdriver\n",
    "from selenium.webdriver.common.keys import Keys\n",
    "from bs4 import BeautifulSoup\n",
    "import requests\n",
    "from selenium.webdriver.common.by import By\n",
    "from selenium.webdriver.support.ui import WebDriverWait\n",
    "from selenium.webdriver.support import expected_conditions as EC"
   ]
  },
  {
   "cell_type": "code",
   "execution_count": 41,
   "metadata": {},
   "outputs": [
    {
     "name": "stdout",
     "output_type": "stream",
     "text": [
      "Please Enter the room number to checkout: 134\n",
      "Enter shift number: 4\n"
     ]
    }
   ],
   "source": [
    "room = input('Please Enter the room number to checkout: ')\n",
    "shiftno =  input('Enter shift number: ')\n",
    "browser = webdriver.Chrome()\n",
    "browser.get('https://www.choiceadvantage.com/choicehotels/sign_in.jsp')\n",
    "user = browser.find_element_by_name('j_username')\n",
    "user.send_keys('vravi.tx332')\n",
    "password = browser.find_element_by_name('j_password')\n",
    "password.send_keys('Welcome123')\n",
    "password.send_keys(Keys.ENTER)\n"
   ]
  },
  {
   "cell_type": "code",
   "execution_count": 42,
   "metadata": {},
   "outputs": [],
   "source": [
    "#Opening a cashier shift\n",
    "browser.get('https://www.choiceadvantage.com/choicehotels/CashierShiftOpenOrCloseDirector.init')\n",
    "html = browser.find_element_by_tag_name('body')\n",
    "save = browser.find_element_by_id('saveBtn')\n",
    "soup = BeautifulSoup(html.text, 'html.parser')\n",
    "if soup.text.find('Open Cashier Shift')!= -1:\n",
    "    shiftid = browser.find_element_by_name('shiftId')\n",
    "    shiftid.send_keys(shiftno)\n",
    "    drawerTotal = browser.find_element_by_name('drawerTotal')\n",
    "    drawerTotal.send_keys('300')\n",
    "    drawerTotal.send_keys(Keys.ENTER)\n",
    "    save.click()\n",
    "else:\n",
    "    browser.get('https://www.choiceadvantage.com/choicehotels/ViewInHouseList.init')\n",
    "    \n",
    "\n",
    "    \n",
    "    "
   ]
  },
  {
   "cell_type": "code",
   "execution_count": 43,
   "metadata": {},
   "outputs": [],
   "source": [
    "#Matching the room number\n",
    "i = 0\n",
    "for l in range(0,64):\n",
    "    roomno = browser.find_element_by_id('inHouseRoomNumber'+str(l))\n",
    "    if (room == roomno.text):\n",
    "        break\n",
    "    else:\n",
    "        i = i+1\n",
    "\n",
    "\n"
   ]
  },
  {
   "cell_type": "code",
   "execution_count": 44,
   "metadata": {
    "scrolled": true
   },
   "outputs": [],
   "source": [
    "#Clicking on guest profile\n",
    "guestprof = browser.find_element_by_id('inHouseGuestName'+str(i))\n",
    "guestprof.click()"
   ]
  },
  {
   "cell_type": "code",
   "execution_count": 45,
   "metadata": {},
   "outputs": [],
   "source": [
    "#Checking if GuestFolio is zero\n",
    "browser.get('https://www.choiceadvantage.com/choicehotels/FindInHouseGuestByAccount.do')\n",
    "browser.get('https://www.choiceadvantage.com/choicehotels/GuestFolio.do')\n",
    "guestfolio =  browser.find_element_by_id('balance_amount')\n",
    "if guestfolio.text == '0.00':\n",
    "    checkout = browser.find_element_by_link_text('Check Out')\n",
    "    checkout.click()\n",
    "    browser.implicitly_wait(10)\n",
    "    browser.get('https://www.choiceadvantage.com/choicehotels/CheckOutGuestProcessing.do?showReconcileBalancePrompt=true')\n",
    "else:\n",
    "    browser.get('https://www.choiceadvantage.com/choicehotels/GuestFolio.do')\n",
    "        "
   ]
  },
  {
   "cell_type": "code",
   "execution_count": 49,
   "metadata": {},
   "outputs": [],
   "source": [
    "browser.get('https://www.choiceadvantage.com/choicehotels/GuestFolio.do')\n",
    "prin = browser.find_element_by_link_text('Print')\n",
    "prin.click()"
   ]
  },
  {
   "cell_type": "code",
   "execution_count": 47,
   "metadata": {},
   "outputs": [
    {
     "data": {
      "text/plain": [
       "'Print'"
      ]
     },
     "execution_count": 47,
     "metadata": {},
     "output_type": "execute_result"
    }
   ],
   "source": [
    "prin.text"
   ]
  }
 ],
 "metadata": {
  "kernelspec": {
   "display_name": "Python 3",
   "language": "python",
   "name": "python3"
  },
  "language_info": {
   "codemirror_mode": {
    "name": "ipython",
    "version": 3
   },
   "file_extension": ".py",
   "mimetype": "text/x-python",
   "name": "python",
   "nbconvert_exporter": "python",
   "pygments_lexer": "ipython3",
   "version": "3.7.0"
  }
 },
 "nbformat": 4,
 "nbformat_minor": 2
}
